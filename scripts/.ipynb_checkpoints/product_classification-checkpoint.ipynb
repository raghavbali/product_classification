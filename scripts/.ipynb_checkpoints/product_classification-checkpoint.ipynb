{
 "cells": [
  {
   "cell_type": "markdown",
   "metadata": {},
   "source": [
    "# Product Classification EDA\n",
    "\n",
    "Problem Details\n",
    "* The input data consists of product details in the form of *product_title, brand_id and category_id* in a **tab** separated file.\n",
    "* Task is to learn the brand_id from this test and predict the same on the test data set.\n",
    "* The test data set would contain only *product_title and category_id*\n",
    "* Model evaluation would be done using **accuracy**\n",
    "\n",
    "** This notebook performs exploratory analysis on the training data **.\n",
    "\n",
    " Coming updates shall contain details regarding to classification/modeling"
   ]
  },
  {
   "cell_type": "code",
   "execution_count": null,
   "metadata": {
    "collapsed": true
   },
   "outputs": [],
   "source": [
    "# Imports\n",
    "\n",
    "# Pandas and Numpy for data structures and util fucntions\n",
    "import re\n",
    "import numpy as np\n",
    "import pandas as pd\n",
    "\n",
    "# Matplot for functions\n",
    "import matplotlib.pyplot as plt\n",
    "%matplotlib inline\n",
    "plt.rcParams['figure.figsize'] = (10,5)\n",
    "from IPython.display import display, HTML"
   ]
  },
  {
   "cell_type": "markdown",
   "metadata": {},
   "source": [
    "### Check what kind of data is present in the file.\n",
    "* Extension is tsv but it is always better to confirm how the data looks"
   ]
  },
  {
   "cell_type": "code",
   "execution_count": 2,
   "metadata": {
    "collapsed": false
   },
   "outputs": [
    {
     "name": "stdout",
     "output_type": "stream",
     "text": [
      "'120GB Hard Disk Drive with 3 Years Warranty for Lenovo Essential B570 Laptop Notebook HDD Computer - Certified 3 Years Warranty from Seifelden\\t3950\\t8\\n'\n",
      "'\"TOSHIBA SATELLITE L305-S5919 LAPTOP LCD SCREEN 15.4\"\" WXGA CCFL SINGLE SUBSTITUTE REPLACEMENT LCD SCREEN ONLY. NOT A LAPTOP\"\\t35099\\t324\\n'\n",
      "'Hobby-Ace Pixhawk PX4 RGB External LED Indicator USB Module for Pixhawk Flight Controller\\t21822\\t510\\n'\n",
      "'Pelicans mousepad\\t44629\\t260\\n'\n",
      "'P4648-60029 Hewlett-Packard Tc2100 System Board\\t42835\\t68\\n'\n"
     ]
    }
   ],
   "source": [
    "counter = 0\n",
    "for line in open(r'../data/classification_train.tsv'):\n",
    "    print repr(line)\n",
    "    counter = counter +1\n",
    "    if counter == 5:\n",
    "        break"
   ]
  },
  {
   "cell_type": "markdown",
   "metadata": {},
   "source": [
    "### Load data \n",
    "* Load data line by line\n",
    "* Split using a regex as we know the pattern ```<text>\\t<numeric>\\t<numeric>```"
   ]
  },
  {
   "cell_type": "code",
   "execution_count": 145,
   "metadata": {
    "collapsed": false
   },
   "outputs": [
    {
     "name": "stdout",
     "output_type": "stream",
     "text": [
      "Rows read from file:: 1000000\n",
      "Sample row:: [['', '120GB Hard Disk Drive with 3 Years Warranty for Lenovo Essential B570 Laptop Notebook HDD Computer - Certified 3 Years Warranty from Seifelden', '3950', '8', ''], ['', '\"TOSHIBA SATELLITE L305-S5919 LAPTOP LCD SCREEN 15.4\"\" WXGA CCFL SINGLE SUBSTITUTE REPLACEMENT LCD SCREEN ONLY. NOT A LAPTOP\"', '35099', '324', ''], ['', 'Hobby-Ace Pixhawk PX4 RGB External LED Indicator USB Module for Pixhawk Flight Controller', '21822', '510', ''], ['', 'Pelicans mousepad', '44629', '260', ''], ['', 'P4648-60029 Hewlett-Packard Tc2100 System Board', '42835', '68', '']]\n"
     ]
    }
   ],
   "source": [
    "raw_data = list()\n",
    "for line in open(r'../data/classification_train.tsv'):\n",
    "    raw_data.append(re.split(r'(.*)\\t(\\d+)\\t(\\d+)$',line.split(\"\\n\")[0]))\n",
    "print \"Rows read from file::\",len(raw_data)\n",
    "print \"Sample row::\",raw_data[0:5]"
   ]
  },
  {
   "cell_type": "markdown",
   "metadata": {},
   "source": [
    "### Create a Dataframe\n",
    "* using pandas and provide headers \n",
    "* print sample data\n",
    "* check overall row count\n",
    "* **handle unsplit/incorrect split**"
   ]
  },
  {
   "cell_type": "code",
   "execution_count": 156,
   "metadata": {
    "collapsed": false
   },
   "outputs": [
    {
     "name": "stdout",
     "output_type": "stream",
     "text": [
      "Dataframe shape::\n",
      "(1000000, 5)\n"
     ]
    }
   ],
   "source": [
    "raw_df = pd.DataFrame(raw_data, columns=['dummy_col1'\n",
    "        ,'product_title'\n",
    "        , 'brand_id'\n",
    "        ,'category_id'\n",
    "        ,'dummy_col2'                                \n",
    "    ])\n",
    "print \"Dataframe shape::\"\n",
    "print raw_df.shape"
   ]
  },
  {
   "cell_type": "markdown",
   "metadata": {},
   "source": [
    "### Incorrect Rows\n",
    "* Since brand_id and category_id are missing, we can discard these rows"
   ]
  },
  {
   "cell_type": "code",
   "execution_count": 157,
   "metadata": {
    "collapsed": false
   },
   "outputs": [
    {
     "name": "stdout",
     "output_type": "stream",
     "text": [
      "                                               dummy_col1 dummy_col2\n",
      "218278                                    title\\tbid\\tcid       None\n",
      "246806  \" 2 Pack Panasonic Compatible KX-FA83 KXFA83 L...       None\n",
      "458263  \"Brocade VDX 6720 - switch - 16 ports - rack-m...       None\n",
      "575503  \"This hub is built strong and ideal for indust...       None\n",
      "(999996, 5)\n"
     ]
    }
   ],
   "source": [
    "print raw_df[raw_df.dummy_col1!=''][['dummy_col1','dummy_col2']]\n",
    "raw_df = raw_df[(raw_df.dummy_col1 == '')&(raw_df.dummy_col2 == '')]\n",
    "print raw_df.shape"
   ]
  },
  {
   "cell_type": "markdown",
   "metadata": {},
   "source": [
    "### Minimal Preprocessing\n",
    "* Check shape\n",
    "* Convert data types as the stray rows confused pandas load process"
   ]
  },
  {
   "cell_type": "code",
   "execution_count": 183,
   "metadata": {
    "collapsed": false
   },
   "outputs": [
    {
     "name": "stdout",
     "output_type": "stream",
     "text": [
      "(999996, 3)\n",
      "product_title    object\n",
      "brand_id          int64\n",
      "category_id       int64\n",
      "dtype: object\n"
     ]
    }
   ],
   "source": [
    "processed_df = raw_df.copy()\n",
    "# drop dummy columns from new dataframe\n",
    "processed_df.drop(['dummy_col1','dummy_col2'],axis=1,inplace=True)\n",
    "\n",
    "# convert to proper datatypes\n",
    "processed_df.loc[:,'category_id'] = processed_df.category_id.astype(np.int64)\n",
    "processed_df.loc[:,'brand_id'] = processed_df.brand_id.astype(np.int64)\n",
    "processed_df.loc[:,'product_title'] = processed_df.product_title.astype(str)\n",
    "\n",
    "# check the shape and dtypes\n",
    "print processed_df.shape\n",
    "print processed_df.dtypes"
   ]
  },
  {
   "cell_type": "markdown",
   "metadata": {},
   "source": [
    "### Uniqueness\n",
    "* How many unique brands and categories are there?\n",
    "* Plot and indentify top 10 in each"
   ]
  },
  {
   "cell_type": "code",
   "execution_count": 184,
   "metadata": {
    "collapsed": false,
    "scrolled": false
   },
   "outputs": [
    {
     "name": "stdout",
     "output_type": "stream",
     "text": [
      "unique brand ids: 35702\n",
      "42835    41745\n",
      "42383    22866\n",
      "6584     19313\n",
      "30503    14337\n",
      "11580    11946\n",
      "26992    11119\n",
      "22765     8970\n",
      "19709     8509\n",
      "36274     8313\n",
      "11544     8145\n",
      "Name: brand_id, dtype: int64 \n",
      "\n",
      "unique categories ids: 609\n",
      "260    60009\n",
      "625    46476\n",
      "483    33416\n",
      "666    30612\n",
      "618    27544\n",
      "367    26318\n",
      "603    24678\n",
      "71     23343\n",
      "390    22108\n",
      "342    21498\n",
      "Name: category_id, dtype: int64 \n",
      "\n",
      "Top Category-Brand counts\n",
      "category_id  brand_id\n",
      "618          30503       11367\n",
      "287          26992        8400\n",
      "618          11580        7632\n",
      "442          28421        7079\n",
      "367          31194        7042\n",
      "603          42383        5024\n",
      "260          45087        4776\n",
      "366          42383        4334\n",
      "260          18530        4260\n",
      "             41873        3837\n",
      "dtype: int64\n"
     ]
    }
   ],
   "source": [
    "print \"unique brand ids:\",len(processed_df.brand_id.unique())\n",
    "print processed_df.brand_id.value_counts().sort_values(ascending=False).head(10),\"\\n\"\n",
    "\n",
    "print \"unique categories ids:\",len(processed_df.category_id.unique())\n",
    "\n",
    "print processed_df.category_id.value_counts().sort_values(ascending=False).head(10),\"\\n\"\n",
    "\n",
    "# Category wise product grouping and counts\n",
    "print \"Top Category-Brand counts\"\n",
    "print processed_df.groupby(['category_id','brand_id']).size().sort_values(ascending=False).head(10)"
   ]
  },
  {
   "cell_type": "markdown",
   "metadata": {},
   "source": [
    "### Visualizing data\n",
    "* Top brands\n",
    "* Top Categories\n",
    "* Distribution of top brands and categories\n",
    "* Relation between branch and categories"
   ]
  },
  {
   "cell_type": "code",
   "execution_count": 211,
   "metadata": {
    "collapsed": false
   },
   "outputs": [
    {
     "name": "stdout",
     "output_type": "stream",
     "text": [
      "Top 20 categories:: [260, 625, 483, 666, 618, 367, 603, 71, 390, 342, 539, 415, 313, 366, 520, 59, 442, 358, 647, 287]\n",
      "Top 20 brands:: [42835, 42383, 6584, 30503, 11580, 26992, 22765, 19709, 36274, 11544, 4361, 28720, 13325, 31194, 28421, 15557, 21244, 4684, 27004, 35099]\n"
     ]
    }
   ],
   "source": [
    "top_n = 20\n",
    "top_cats = processed_df.category_id.value_counts().sort_values(ascending=False).head(top_n).index.tolist()\n",
    "top_brands = processed_df.brand_id.value_counts().sort_values(ascending=False).head(top_n).index.tolist()\n",
    "\n",
    "print \"Top \"+str(top_n) +\" categories::\",top_cats\n",
    "print \"Top \"+str(top_n) +\" brands::\",top_brands"
   ]
  },
  {
   "cell_type": "code",
   "execution_count": 281,
   "metadata": {
    "collapsed": false
   },
   "outputs": [
    {
     "data": {
      "text/plain": [
       "<matplotlib.axes._subplots.AxesSubplot at 0xcdd9cf60>"
      ]
     },
     "execution_count": 281,
     "metadata": {},
     "output_type": "execute_result"
    },
    {
     "data": {
      "image/png": "[encoded data removed]",
      "text/plain": [
       "<matplotlib.figure.Figure at 0xded56be0>"
      ]
     },
     "metadata": {},
     "output_type": "display_data"
    }
   ],
   "source": [
    "processed_df[\n",
    "    processed_df.category_id.isin(top_cats)].category_id.astype('category').value_counts().plot(\n",
    "                                                                                kind='bar'\n",
    "                                                                                ,title='Category Frequency')"
   ]
  },
  {
   "cell_type": "markdown",
   "metadata": {},
   "source": [
    "#### Top Category "
   ]
  },
  {
   "cell_type": "code",
   "execution_count": 276,
   "metadata": {
    "collapsed": false
   },
   "outputs": [
    {
     "data": {
      "text/html": [
       "<div>\n",
       "<table border=\"1\" class=\"dataframe\">\n",
       "  <thead>\n",
       "    <tr style=\"text-align: right;\">\n",
       "      <th></th>\n",
       "      <th>product_title</th>\n",
       "      <th>brand_id</th>\n",
       "      <th>category_id</th>\n",
       "    </tr>\n",
       "  </thead>\n",
       "  <tbody>\n",
       "    <tr>\n",
       "      <th>3</th>\n",
       "      <td>Pelicans mousepad</td>\n",
       "      <td>44629</td>\n",
       "      <td>260</td>\n",
       "    </tr>\n",
       "    <tr>\n",
       "      <th>21</th>\n",
       "      <td>Desert Vegetation Clouds Before A Rain Placema...</td>\n",
       "      <td>4869</td>\n",
       "      <td>260</td>\n",
       "    </tr>\n",
       "    <tr>\n",
       "      <th>22</th>\n",
       "      <td>3001 Katsushika Oi - Night Scene in the Yoshiw...</td>\n",
       "      <td>41186</td>\n",
       "      <td>260</td>\n",
       "    </tr>\n",
       "    <tr>\n",
       "      <th>55</th>\n",
       "      <td>\"Mousepad - 9.25\"\" x 7.75\"\" Designer Mouse Pad...</td>\n",
       "      <td>44485</td>\n",
       "      <td>260</td>\n",
       "    </tr>\n",
       "    <tr>\n",
       "      <th>71</th>\n",
       "      <td>DLLM Creative Design Art Gaming Computer Mouse...</td>\n",
       "      <td>24179</td>\n",
       "      <td>260</td>\n",
       "    </tr>\n",
       "  </tbody>\n",
       "</table>\n",
       "</div>"
      ],
      "text/plain": [
       "                                        product_title  brand_id  category_id\n",
       "3                                   Pelicans mousepad     44629          260\n",
       "21  Desert Vegetation Clouds Before A Rain Placema...      4869          260\n",
       "22  3001 Katsushika Oi - Night Scene in the Yoshiw...     41186          260\n",
       "55  \"Mousepad - 9.25\"\" x 7.75\"\" Designer Mouse Pad...     44485          260\n",
       "71  DLLM Creative Design Art Gaming Computer Mouse...     24179          260"
      ]
     },
     "execution_count": 276,
     "metadata": {},
     "output_type": "execute_result"
    }
   ],
   "source": [
    "processed_df[processed_df.category_id==260].head()"
   ]
  },
  {
   "cell_type": "code",
   "execution_count": 282,
   "metadata": {
    "collapsed": false
   },
   "outputs": [
    {
     "data": {
      "text/plain": [
       "<matplotlib.axes._subplots.AxesSubplot at 0x169cc828>"
      ]
     },
     "execution_count": 282,
     "metadata": {},
     "output_type": "execute_result"
    },
    {
     "data": {
      "image/png": "[encoded data removed]",
      "text/plain": [
       "<matplotlib.figure.Figure at 0xf482c860>"
      ]
     },
     "metadata": {},
     "output_type": "display_data"
    }
   ],
   "source": [
    "processed_df[\n",
    "    processed_df.brand_id.isin(top_brands)].brand_id.astype('category').value_counts().plot(\n",
    "                                                                                kind='bar'\n",
    "                                                                                ,title='Brand Frequency')"
   ]
  },
  {
   "cell_type": "markdown",
   "metadata": {},
   "source": [
    "#### Top Brands"
   ]
  },
  {
   "cell_type": "code",
   "execution_count": 228,
   "metadata": {
    "collapsed": false
   },
   "outputs": [
    {
     "data": {
      "text/html": [
       "<div>\n",
       "<table border=\"1\" class=\"dataframe\">\n",
       "  <thead>\n",
       "    <tr style=\"text-align: right;\">\n",
       "      <th></th>\n",
       "      <th>product_title</th>\n",
       "      <th>brand_id</th>\n",
       "      <th>category_id</th>\n",
       "    </tr>\n",
       "  </thead>\n",
       "  <tbody>\n",
       "    <tr>\n",
       "      <th>4</th>\n",
       "      <td>P4648-60029 Hewlett-Packard Tc2100 System Board</td>\n",
       "      <td>42835</td>\n",
       "      <td>68</td>\n",
       "    </tr>\n",
       "    <tr>\n",
       "      <th>35</th>\n",
       "      <td>Sparepart: HP PEN, SHIPMENT, SINGLE, C5956-67785</td>\n",
       "      <td>42835</td>\n",
       "      <td>128</td>\n",
       "    </tr>\n",
       "    <tr>\n",
       "      <th>41</th>\n",
       "      <td>Hewlett Packard HP scanjet 8270 document flatb...</td>\n",
       "      <td>42835</td>\n",
       "      <td>183</td>\n",
       "    </tr>\n",
       "    <tr>\n",
       "      <th>53</th>\n",
       "      <td>D2920-69001 Hewlett-Packard 1Gb Fast Scsi-2 Ha...</td>\n",
       "      <td>42835</td>\n",
       "      <td>366</td>\n",
       "    </tr>\n",
       "    <tr>\n",
       "      <th>63</th>\n",
       "      <td>J6042A HP Jetdirect 250M LIO Print Server J6042A</td>\n",
       "      <td>42835</td>\n",
       "      <td>197</td>\n",
       "    </tr>\n",
       "  </tbody>\n",
       "</table>\n",
       "</div>"
      ],
      "text/plain": [
       "                                        product_title  brand_id  category_id\n",
       "4     P4648-60029 Hewlett-Packard Tc2100 System Board     42835           68\n",
       "35   Sparepart: HP PEN, SHIPMENT, SINGLE, C5956-67785     42835          128\n",
       "41  Hewlett Packard HP scanjet 8270 document flatb...     42835          183\n",
       "53  D2920-69001 Hewlett-Packard 1Gb Fast Scsi-2 Ha...     42835          366\n",
       "63   J6042A HP Jetdirect 250M LIO Print Server J6042A     42835          197"
      ]
     },
     "execution_count": 228,
     "metadata": {},
     "output_type": "execute_result"
    }
   ],
   "source": [
    "processed_df[processed_df.brand_id==42835].head()"
   ]
  },
  {
   "cell_type": "code",
   "execution_count": 283,
   "metadata": {
    "collapsed": false
   },
   "outputs": [
    {
     "data": {
      "text/plain": [
       "<matplotlib.axes._subplots.AxesSubplot at 0x11ee6828>"
      ]
     },
     "execution_count": 283,
     "metadata": {},
     "output_type": "execute_result"
    },
    {
     "data": {
      "image/png": "[encoded data removed]",
      "text/plain": [
       "<matplotlib.figure.Figure at 0x11f352e8>"
      ]
     },
     "metadata": {},
     "output_type": "display_data"
    }
   ],
   "source": [
    "processed_df.groupby(['category_id','brand_id']).size().sort_values(ascending=False).head(top_n).plot(\n",
    "                                                                                kind='barh'\n",
    "                                                                                ,title='Category-Brand Frequency')"
   ]
  },
  {
   "cell_type": "markdown",
   "metadata": {},
   "source": [
    "### Brand-Category Scatter"
   ]
  },
  {
   "cell_type": "code",
   "execution_count": 284,
   "metadata": {
    "collapsed": false
   },
   "outputs": [
    {
     "data": {
      "text/plain": [
       "<matplotlib.collections.PathCollection at 0x11c0a898>"
      ]
     },
     "execution_count": 284,
     "metadata": {},
     "output_type": "execute_result"
    },
    {
     "data": {
      "image/png": "[encoded data removed]",
      "text/plain": [
       "<matplotlib.figure.Figure at 0xdde753c8>"
      ]
     },
     "metadata": {},
     "output_type": "display_data"
    }
   ],
   "source": [
    "counts = processed_df.brand_id.astype('category').value_counts().tolist()\n",
    "cat_counts = processed_df.category_id.astype('category').value_counts().tolist()\n",
    "plt.scatter(processed_df.brand_id.unique().tolist()[0:top_n],\n",
    "                           counts[0:top_n],\n",
    "                           c=np.array(cat_counts[0:top_n])/1000,\n",
    "                           s=np.array(counts[0:top_n])/100)"
   ]
  },
  {
   "cell_type": "markdown",
   "metadata": {},
   "source": [
    "#### Top Combination"
   ]
  },
  {
   "cell_type": "code",
   "execution_count": 230,
   "metadata": {
    "collapsed": false
   },
   "outputs": [
    {
     "data": {
      "text/html": [
       "<div>\n",
       "<table border=\"1\" class=\"dataframe\">\n",
       "  <thead>\n",
       "    <tr style=\"text-align: right;\">\n",
       "      <th></th>\n",
       "      <th>product_title</th>\n",
       "      <th>brand_id</th>\n",
       "      <th>category_id</th>\n",
       "    </tr>\n",
       "  </thead>\n",
       "  <tbody>\n",
       "    <tr>\n",
       "      <th>35131</th>\n",
       "      <td>HP Enterprise Mainstream Flash Media Kit - Fla...</td>\n",
       "      <td>42835</td>\n",
       "      <td>618</td>\n",
       "    </tr>\n",
       "    <tr>\n",
       "      <th>64327</th>\n",
       "      <td>HP Red generic reduced height crtg</td>\n",
       "      <td>42835</td>\n",
       "      <td>618</td>\n",
       "    </tr>\n",
       "    <tr>\n",
       "      <th>93677</th>\n",
       "      <td>Sparepart: HP HS_HM87 DSC 750M, 720233-001</td>\n",
       "      <td>42835</td>\n",
       "      <td>618</td>\n",
       "    </tr>\n",
       "    <tr>\n",
       "      <th>185601</th>\n",
       "      <td>HP - Card SDHC Micro 4GB Class 4 with Adapter</td>\n",
       "      <td>42835</td>\n",
       "      <td>618</td>\n",
       "    </tr>\n",
       "    <tr>\n",
       "      <th>488261</th>\n",
       "      <td>HP Micro SD 2-Adapters Kit 447832-001and 44349...</td>\n",
       "      <td>42835</td>\n",
       "      <td>618</td>\n",
       "    </tr>\n",
       "  </tbody>\n",
       "</table>\n",
       "</div>"
      ],
      "text/plain": [
       "                                            product_title  brand_id  \\\n",
       "35131   HP Enterprise Mainstream Flash Media Kit - Fla...     42835   \n",
       "64327                  HP Red generic reduced height crtg     42835   \n",
       "93677          Sparepart: HP HS_HM87 DSC 750M, 720233-001     42835   \n",
       "185601      HP - Card SDHC Micro 4GB Class 4 with Adapter     42835   \n",
       "488261  HP Micro SD 2-Adapters Kit 447832-001and 44349...     42835   \n",
       "\n",
       "        category_id  \n",
       "35131           618  \n",
       "64327           618  \n",
       "93677           618  \n",
       "185601          618  \n",
       "488261          618  "
      ]
     },
     "execution_count": 230,
     "metadata": {},
     "output_type": "execute_result"
    }
   ],
   "source": [
    "processed_df[(processed_df.category_id==618) & (processed_df.brand_id==42835)].head()"
   ]
  },
  {
   "cell_type": "markdown",
   "metadata": {},
   "source": [
    "From the visualizations::\n",
    "* Brands follow a long tailed/skewed distribution\n",
    "* Categories also follow a skewed distribution\n",
    "* Top Brands have products under top categories\n",
    "* Computer/electronic products are listed under top most categories/brands"
   ]
  }
 ],
 "metadata": {
  "anaconda-cloud": {},
  "kernelspec": {
   "display_name": "Python [default]",
   "language": "python",
   "name": "python2"
  },
  "language_info": {
   "codemirror_mode": {
    "name": "ipython",
    "version": 2
   },
   "file_extension": ".py",
   "mimetype": "text/x-python",
   "name": "python",
   "nbconvert_exporter": "python",
   "pygments_lexer": "ipython2",
   "version": "2.7.12"
  }
 },
 "nbformat": 4,
 "nbformat_minor": 0
}
